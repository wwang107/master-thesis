{
 "cells": [
  {
   "cell_type": "code",
   "execution_count": 25,
   "metadata": {},
   "outputs": [
    {
     "name": "stderr",
     "output_type": "stream",
     "text": [
      "Downloading: \"https://download.pytorch.org/models/resnet18-5c106cde.pth\" to /home/weiwang/.torch/models/resnet18-5c106cde.pth\n",
      "46827520it [00:08, 5432776.95it/s]\n"
     ]
    },
    {
     "data": {
      "text/plain": [
       "torch.Size([1, 128, 51, 51])"
      ]
     },
     "execution_count": 25,
     "metadata": {},
     "output_type": "execute_result"
    }
   ],
   "source": [
    "import torchvision.models as model\n",
    "resnet18 = models.resnet18(pretrained=True)\n",
    "import torch\n",
    "import torch.nn as nn\n",
    "\n",
    "\n",
    "modules=list(resnet18.children())[:-2]\n",
    "modules += [\n",
    "    nn.ConvTranspose2d(512, 256, 3, stride=1),\n",
    "    nn.ReLU(),\n",
    "    nn.ConvTranspose2d(256, 128, 3, stride=1),\n",
    "    nn.ConvTranspose2d(128, 128, 3, stride=2),\n",
    "    nn.ConvTranspose2d(128, 128, 3, stride=2),\n",
    "]\n",
    "resnet18 = nn.Sequential(*modules)\n",
    "\n",
    "img = torch.zeros((1, 3, 256, 256))\n",
    "\n",
    "out = resnet18(img)\n",
    "\n",
    "out.size()\n",
    "\n",
    "# Use cross entropy as loss\n",
    "# use non-linear transformation between convolution layer"
   ]
  },
  {
   "cell_type": "code",
   "execution_count": null,
   "metadata": {},
   "outputs": [],
   "source": []
  }
 ],
 "metadata": {
  "kernelspec": {
   "display_name": "Python 3",
   "language": "python",
   "name": "python3"
  },
  "language_info": {
   "codemirror_mode": {
    "name": "ipython",
    "version": 3
   },
   "file_extension": ".py",
   "mimetype": "text/x-python",
   "name": "python",
   "nbconvert_exporter": "python",
   "pygments_lexer": "ipython3",
   "version": "3.7.5"
  }
 },
 "nbformat": 4,
 "nbformat_minor": 4
}
